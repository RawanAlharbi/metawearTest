{
 "cells": [
  {
   "cell_type": "markdown",
   "metadata": {},
   "source": [
    "# Testing MetaWear"
   ]
  },
  {
   "cell_type": "markdown",
   "metadata": {},
   "source": [
    "Summery: I have tested accelometer on 60Hz 3 times (1 minute, 12 minute and 12 minute)\n",
    "\n",
    "Input:\n",
    "* file name\n",
    "* minutes\n",
    "* Hz\n",
    "\n",
    "output: \n",
    "* % of data (sample) lost \n",
    "* Time between samples in microseconds (Ideally the time should be identical between each sample, hence it is ideal to see only one value here.)\n"
   ]
  },
  {
   "cell_type": "markdown",
   "metadata": {},
   "source": [
    "## Loging Method (Data saved internally and sent only after clicking a send button)"
   ]
  },
  {
   "cell_type": "markdown",
   "metadata": {},
   "source": [
    "### Accelerometer"
   ]
  },
  {
   "cell_type": "code",
   "execution_count": 1,
   "metadata": {
    "collapsed": false
   },
   "outputs": [
    {
     "name": "stdout",
     "output_type": "stream",
     "text": [
      "10  minutes on  60 Hz\n",
      "percentage of sample lost: %15.875\n",
      "Time between samples is the following:  {19042, 19043, 11718, 11719, 30762, 10253, 10254, 29297, 8789, 8790, 20507, 20508}\n"
     ]
    }
   ],
   "source": [
    "\n",
    "############Input##############\n",
    "input_file = open(\"./data/AccData_60Hz_log.csv\",\"r\")\n",
    "hz = 60\n",
    "minutes = 10\n",
    "###############################\n",
    "\n",
    "from datetime import datetime, timedelta \n",
    "\n",
    "rows = input_file.readlines()\n",
    "\n",
    "\n",
    "print (minutes , \" minutes on \" , hz , \"Hz\")\n",
    "print (\"percentage of sample lost: %\" + str((len(rows) / (minutes * 60 * hz))* 100))\n",
    "\n",
    "for i in range(len(rows)):\n",
    "    rows[i] = rows[i].strip(\"\\n\").split(\",\")[0]\n",
    "    rows[i] = datetime.fromtimestamp(float(rows[i]))\n",
    "\n",
    "variations = set([])\n",
    "\n",
    "for i in range(len(rows)-1):\n",
    "    variations.add((rows[i+1]-rows[i]).microseconds)\n",
    "\n",
    "print (\"Time between samples is the following: \",variations)\n",
    "\n",
    "\n",
    "\n"
   ]
  },
  {
   "cell_type": "code",
   "execution_count": 2,
   "metadata": {
    "collapsed": false
   },
   "outputs": [
    {
     "name": "stdout",
     "output_type": "stream",
     "text": [
      "12  minutes on  60 Hz\n",
      "percentage of sample lost: %13.321759259259258\n",
      "Time between samples is the following:  {19042, 19043, 11718, 11719, 10253, 10254, 8789, 8790, 20507, 20508}\n"
     ]
    }
   ],
   "source": [
    "\n",
    "############Input##############\n",
    "input_file = open(\"./data/AccData_60Hz_log_12.csv\",\"r\")\n",
    "hz = 60\n",
    "minutes = 12\n",
    "###############################\n",
    "\n",
    "from datetime import datetime, timedelta \n",
    "\n",
    "rows = input_file.readlines()\n",
    "\n",
    "\n",
    "print (minutes , \" minutes on \" , hz , \"Hz\")\n",
    "print (\"percentage of sample lost: %\" + str((len(rows) / (minutes * 60 * hz))* 100))\n",
    "\n",
    "for i in range(len(rows)):\n",
    "    rows[i] = rows[i].strip(\"\\n\").split(\",\")[0]\n",
    "    rows[i] = datetime.fromtimestamp(float(rows[i]))\n",
    "\n",
    "variations = set([])\n",
    "\n",
    "for i in range(len(rows)-1):\n",
    "    variations.add((rows[i+1]-rows[i]).microseconds)\n",
    "\n",
    "print (\"Time between samples is the following: \",variations)\n",
    "\n"
   ]
  },
  {
   "cell_type": "code",
   "execution_count": 3,
   "metadata": {
    "collapsed": false
   },
   "outputs": [
    {
     "name": "stdout",
     "output_type": "stream",
     "text": [
      "12  minutes on  60 Hz\n",
      "percentage of sample lost: %13.229166666666666\n",
      "Time between samples is the following:  {19043, 11718, 11719, 10253, 10254, 8789, 8790, 20507, 20508}\n"
     ]
    }
   ],
   "source": [
    "\n",
    "############Input##############\n",
    "input_file = open(\"./data/AccData_60Hz_log_12_2.csv\",\"r\")\n",
    "hz = 60\n",
    "minutes = 12\n",
    "###############################\n",
    "\n",
    "from datetime import datetime, timedelta \n",
    "\n",
    "rows = input_file.readlines()\n",
    "\n",
    "\n",
    "print (minutes , \" minutes on \" , hz , \"Hz\")\n",
    "print (\"percentage of sample lost: %\" + str((len(rows) / (minutes * 60 * hz))* 100))\n",
    "\n",
    "for i in range(len(rows)):\n",
    "    rows[i] = rows[i].strip(\"\\n\").split(\",\")[0]\n",
    "    rows[i] = datetime.fromtimestamp(float(rows[i]))\n",
    "\n",
    "variations = set([])\n",
    "\n",
    "for i in range(len(rows)-1):\n",
    "    variations.add((rows[i+1]-rows[i]).microseconds)\n",
    "\n",
    "print (\"Time between samples is the following: \",variations)\n",
    "\n"
   ]
  },
  {
   "cell_type": "code",
   "execution_count": 4,
   "metadata": {
    "collapsed": false
   },
   "outputs": [
    {
     "name": "stdout",
     "output_type": "stream",
     "text": [
      "1  minutes on  60 Hz\n",
      "percentage of sample lost: %156.97222222222223\n",
      "Time between samples is the following:  {19042, 19043, 11718, 11719, 10253, 10254, 7324, 8789, 8790, 20507, 20508}\n"
     ]
    }
   ],
   "source": [
    "\n",
    "############Input##############\n",
    "input_file = open(\"./data/AccData_60Hz_log_1.csv\",\"r\")\n",
    "hz = 60\n",
    "minutes = 1\n",
    "###############################\n",
    "\n",
    "from datetime import datetime, timedelta \n",
    "\n",
    "rows = input_file.readlines()\n",
    "\n",
    "\n",
    "print (minutes , \" minutes on \" , hz , \"Hz\")\n",
    "print (\"percentage of sample lost: %\" + str((len(rows) / (minutes * 60 * hz))* 100))\n",
    "\n",
    "for i in range(len(rows)):\n",
    "    rows[i] = rows[i].strip(\"\\n\").split(\",\")[0]\n",
    "    rows[i] = datetime.fromtimestamp(float(rows[i]))\n",
    "\n",
    "variations = set([])\n",
    "\n",
    "for i in range(len(rows)-1):\n",
    "    variations.add((rows[i+1]-rows[i]).microseconds)\n",
    "\n",
    "print (\"Time between samples is the following: \",variations)\n",
    "\n",
    "\n",
    "\n",
    "    \n",
    "\n",
    "\n",
    "\n"
   ]
  },
  {
   "cell_type": "code",
   "execution_count": null,
   "metadata": {
    "collapsed": true
   },
   "outputs": [],
   "source": []
  }
 ],
 "metadata": {
  "kernelspec": {
   "display_name": "Python 3",
   "language": "python",
   "name": "python3"
  },
  "language_info": {
   "codemirror_mode": {
    "name": "ipython",
    "version": 3
   },
   "file_extension": ".py",
   "mimetype": "text/x-python",
   "name": "python",
   "nbconvert_exporter": "python",
   "pygments_lexer": "ipython3",
   "version": "3.5.1"
  }
 },
 "nbformat": 4,
 "nbformat_minor": 0
}
